{
  "cells": [
    {
      "cell_type": "markdown",
      "metadata": {
        "id": "DIMUeD7AQTCr"
      },
      "source": [
        "**Check for cuda**"
      ]
    },
    {
      "cell_type": "code",
      "execution_count": 1,
      "metadata": {
        "id": "5_tTBUjGbdBT"
      },
      "outputs": [],
      "source": [
        "import warnings\n",
        "\n",
        "warnings.filterwarnings(\"ignore\")"
      ]
    },
    {
      "cell_type": "code",
      "execution_count": 2,
      "metadata": {
        "colab": {
          "base_uri": "https://localhost:8080/",
          "height": 35
        },
        "id": "n-lScr8ZPLzB",
        "outputId": "fbe1f7e7-f750-4434-f002-2e94da6cc415"
      },
      "outputs": [
        {
          "data": {
            "text/plain": [
              "'cuda'"
            ]
          },
          "execution_count": 2,
          "metadata": {},
          "output_type": "execute_result"
        }
      ],
      "source": [
        "import torch\n",
        "from torch import nn\n",
        "\n",
        "device = \"cuda\" if torch.cuda.is_available() else \"cpu\"\n",
        "device"
      ]
    },
    {
      "cell_type": "code",
      "execution_count": 3,
      "metadata": {},
      "outputs": [],
      "source": [
        "# import torch\n",
        "# from torchvision.models import vgg16, VGG16_Weights\n",
        "\n",
        "# # Ensure that device is defined (e.g., 'cpu' or 'cuda')\n",
        "# device = torch.device('cuda' if torch.cuda.is_available() else 'cpu')\n",
        "\n",
        "# # Load the VGG16 model with pretrained weights\n",
        "# model = vgg16(weights=VGG16_Weights.IMAGENET1K_V1).to(device)"
      ]
    },
    {
      "cell_type": "markdown",
      "metadata": {
        "id": "nmO-rhieQPMF"
      },
      "source": [
        "**Down Data**"
      ]
    },
    {
      "cell_type": "code",
      "execution_count": 4,
      "metadata": {
        "id": "3IgByq9TQNZM"
      },
      "outputs": [],
      "source": [
        "# import requests\n",
        "# import zipfile\n",
        "# from pathlib import Path\n",
        "\n",
        "# data_path = Path(\"data/\")\n",
        "# image_path = data_path / \"pizza_steak_sushi\"\n",
        "\n",
        "# if image_path.is_dir():\n",
        "#     print(f\"{image_path} directory exists.\")\n",
        "# else:\n",
        "#     print(f\"Did not find {image_path} directory, creating one...\")\n",
        "#     image_path.mkdir(parents=True, exist_ok=True)\n",
        "\n",
        "#     with open(data_path / \"pizza_steak_sushi.zip\", \"wb\") as f:\n",
        "#         request = requests.get(\"https://github.com/mrdbourke/pytorch-deep-learning/raw/main/data/pizza_steak_sushi.zip\")\n",
        "#         print(\"Downloading pizza, steak, sushi data...\")\n",
        "#         f.write(request.content)\n",
        "\n",
        "#     with zipfile.ZipFile(data_path / \"pizza_steak_sushi.zip\", \"r\") as zip_ref:\n",
        "#         print(\"Unzipping pizza, steak, sushi data...\")\n",
        "#         zip_ref.extractall(image_path)"
      ]
    },
    {
      "cell_type": "code",
      "execution_count": 5,
      "metadata": {
        "colab": {
          "base_uri": "https://localhost:8080/",
          "height": 304
        },
        "id": "X0MTTveAxQbU",
        "outputId": "6a8fadad-0e70-4faf-8b86-0c2d78deb10a"
      },
      "outputs": [],
      "source": [
        "# from google.colab import drive\n",
        "# drive.mount('/content/drive')"
      ]
    },
    {
      "cell_type": "code",
      "execution_count": 6,
      "metadata": {
        "id": "JLvqFbfWxgQB"
      },
      "outputs": [],
      "source": [
        "# unzip = 0\n",
        "# if unzip == 0:\n",
        "#   !unzip /content/drive/MyDrive/Animal_dataset/VGG_16.zip -d /content/animal_dataset\n",
        "#   unzip += 1\n",
        "# else:\n",
        "#   print(\"already zip\")"
      ]
    },
    {
      "cell_type": "markdown",
      "metadata": {
        "id": "s5CRl8AhQYA-"
      },
      "source": [
        "**Build Custome Dataset**"
      ]
    },
    {
      "cell_type": "code",
      "execution_count": 7,
      "metadata": {
        "id": "h6LvJsgcRElC"
      },
      "outputs": [],
      "source": [
        "import os\n",
        "import pathlib\n",
        "import torch\n",
        "import torch.optim as optim\n",
        "from torch.utils.data import Dataset, DataLoader, random_split, SubsetRandomSampler\n",
        "from torch.utils.tensorboard import SummaryWriter\n",
        "from torchvision import transforms, datasets\n",
        "from torchvision.transforms import Resize, ToTensor, Compose, Normalize, RandomHorizontalFlip\n",
        "from torchvision.models import resnet34, ResNet34_Weights\n",
        "from PIL import Image\n",
        "from typing import Tuple, Dict, List\n",
        "import numpy as np\n",
        "from sklearn.metrics import accuracy_score, confusion_matrix\n",
        "import matplotlib.pyplot as plt\n",
        "from tqdm.autonotebook import tqdm\n",
        "import argparse\n",
        "import cv2\n",
        "import shutil\n",
        "\n"
      ]
    },
    {
      "cell_type": "code",
      "execution_count": 8,
      "metadata": {
        "id": "d2zCnDbORILq"
      },
      "outputs": [],
      "source": [
        "def find_classes(directory: str) -> Tuple[List[str], Dict[str, int]]:\n",
        "\n",
        "    classes = sorted(entry.name for entry in os.scandir(directory) if entry.is_dir())\n",
        "    if not classes:\n",
        "        raise FileNotFoundError(f\"Couldn't find any classes in {directory}.\")\n",
        "\n",
        "    class_to_idx = {cls_name: i for i, cls_name in enumerate(classes)}\n",
        "    return classes, class_to_idx"
      ]
    },
    {
      "cell_type": "code",
      "execution_count": 9,
      "metadata": {
        "id": "AWZ3Z25kRAf1"
      },
      "outputs": [],
      "source": [
        "\n",
        "class ImageFolderCustom(Dataset):\n",
        "  def __init__(self, root_dir, is_train, transform):\n",
        "    if is_train:\n",
        "      data_path = os.path.join(root_dir, \"train\")\n",
        "    else:\n",
        "      data_path = os.path.join(root_dir, \"test\")\n",
        "    self.root_dir = root_dir\n",
        "    self.categories = ['cow', 'horse', 'sheep']\n",
        "    self.image_paths = []\n",
        "    self.labels = []\n",
        "    self.transform = transform\n",
        "    for index, category in enumerate(self.categories):\n",
        "      subdir_path = os.path.join(data_path, category)\n",
        "      for file_name in os.listdir(subdir_path):\n",
        "          self.image_paths.append(os.path.join(subdir_path,subdir_path, file_name))\n",
        "          self.labels.append(index)\n",
        "\n",
        "  def __len__(self) -> int:\n",
        "      \"Returns the total number of samples.\"\n",
        "      return len(self.image_paths)\n",
        "\n",
        "  def __getitem__(self, index: int) -> Tuple[torch.Tensor, int]:\n",
        "      \"Returns one sample of data, data and label (X, y).\"\n",
        "      image = Image.open(self.image_paths[index]).convert(\"RGB\")\n",
        "      class_idx = self.labels[index]\n",
        "      if self.transform:\n",
        "          image = self.transform(image)\n",
        "      return image, class_idx"
      ]
    },
    {
      "cell_type": "code",
      "execution_count": 10,
      "metadata": {
        "id": "4WKEztRcZDrX"
      },
      "outputs": [],
      "source": [
        "root_dir = r'PATH TO YOUR DATASET FOLDER'"
      ]
    },
    {
      "cell_type": "code",
      "execution_count": 11,
      "metadata": {
        "id": "O-6KpTDiVB03"
      },
      "outputs": [],
      "source": [
        "def data_loader(root_dir:str) -> tuple[DataLoader,DataLoader]:\n",
        "  train_transform = Compose([\n",
        "    Resize((224, 224)),\n",
        "    ToTensor(),\n",
        "    RandomHorizontalFlip(p=0.5),\n",
        "    Normalize(\n",
        "        mean=[0.4914, 0.4822, 0.4465],\n",
        "        std=[0.2023, 0.1994, 0.2010])\n",
        "    ])\n",
        "  test_transform = Compose([\n",
        "    Resize((224, 224)),\n",
        "    ToTensor()\n",
        "    ])\n",
        "\n",
        "  train_dataset = ImageFolderCustom(root_dir=root_dir, is_train=True, transform=train_transform)\n",
        "  train_dataloader = DataLoader(\n",
        "      dataset = train_dataset,\n",
        "      batch_size = 4,\n",
        "      num_workers = 4,\n",
        "      shuffle = True,\n",
        "      drop_last = False\n",
        "  )\n",
        "  test_dataset = ImageFolderCustom(root_dir=root_dir, is_train=False, transform=test_transform)\n",
        "  test_dataloader = DataLoader(\n",
        "        dataset = test_dataset,\n",
        "        batch_size = 2,\n",
        "        num_workers = 2,\n",
        "        shuffle = False,\n",
        "        drop_last = False\n",
        "  )\n",
        "  return train_dataloader, test_dataloader\n",
        "\n",
        "train_dataloader, test_dataloader = data_loader(root_dir)"
      ]
    },
    {
      "cell_type": "code",
      "execution_count": 12,
      "metadata": {
        "id": "gy2QF0-JlGWl"
      },
      "outputs": [],
      "source": [
        "# TEST IMAGE INFO AFTER DATALOADER\n",
        "\n",
        "# # train_transform = Compose([\n",
        "# #     Resize((224, 224)),\n",
        "# #     ToTensor(),\n",
        "# #     RandomHorizontalFlip(p=0.5),\n",
        "# #     Normalize(\n",
        "# #         mean=[0.4914, 0.4822, 0.4465],\n",
        "# #         std=[0.2023, 0.1994, 0.2010])\n",
        "# #     ])\n",
        "# # train_dataset = ImageFolderCustom(root_dir=root_dir, is_train=True, transform=train_transform)\n",
        "# # images_neduma,labels_neduma = train_dataset.__getitem__(200)\n",
        "# # print(images_neduma.shape)\n",
        "# # print(labels_neduma)"
      ]
    },
    {
      "cell_type": "code",
      "execution_count": 13,
      "metadata": {
        "id": "mND6usFedike"
      },
      "outputs": [],
      "source": [
        "#CHECK CLASSES\n",
        "\n",
        "# from PIL import Image\n",
        "# import matplotlib.pyplot as plt\n",
        "# categories = ['pizza', 'steak', 'sushi']\n",
        "# data = ImageFolderCustom(root_dir=root_dir,  is_train=True)\n",
        "\n",
        "# image,label = data.__getitem__(200)\n",
        "\n",
        "# img = cv2.cvtColor(image, cv2.COLOR_BGR2RGB)\n",
        "# im_pil = Image.fromarray(img)\n",
        "\n",
        "# im_np = np.asarray(im_pil)\n",
        "\n",
        "# plt.imshow(im_np)\n",
        "# plt.title(categories[label])\n",
        "# plt.axis('off')\n",
        "# plt.show()\n"
      ]
    },
    {
      "cell_type": "markdown",
      "metadata": {
        "id": "sW3sTDEweoPa"
      },
      "source": [
        "**MODEL**"
      ]
    },
    {
      "cell_type": "code",
      "execution_count": 14,
      "metadata": {
        "id": "fo46bp_3esY1"
      },
      "outputs": [],
      "source": [
        "IMAGE_SIZE = 224\n",
        "NUM_CLASSES = 3\n",
        "\n",
        "NUM_EPOCHS = 100\n",
        "NUM_WORKERS = 4\n",
        "LEARNING_RATE = 0.001\n",
        "\n",
        "CONV_KERNEL = 3\n",
        "CONV_STRIDE = 1\n",
        "CONV_PADDING = 1\n",
        "MP_KERNEL = 2\n",
        "MP_STRIDE = 2\n",
        "MP_PADDING = 0\n",
        "\n",
        "VGG16_ARCHITECTURE = [64, 64, \"M\", 128, 128, \"M\", 256, 256, 256, \"M\", 512, 512, 512, \"M\", 512, 512, 512, \"M\"]"
      ]
    },
    {
      "cell_type": "code",
      "execution_count": 15,
      "metadata": {
        "id": "DJ2OMIgDekoz"
      },
      "outputs": [],
      "source": [
        "class VGG(nn.Module):\n",
        "  def __init__(self, in_channels=3, num_classes=None):\n",
        "    super(VGG, self).__init__()\n",
        "    self.in_channels = in_channels\n",
        "    self.features = self.create_conv_layers(VGG16_ARCHITECTURE)\n",
        "    self.avgpool = nn.AdaptiveAvgPool2d((7,7))\n",
        "    self.classifier = nn.Sequential(\n",
        "        nn.Linear(512*7*7, 4096),\n",
        "        nn.ReLU(),\n",
        "        nn.Dropout(p=0.5),\n",
        "        nn.Linear(4096, 4096),\n",
        "        nn.ReLU(),\n",
        "        nn.Dropout(p=0.5),\n",
        "        nn.Linear(4096, 1000),\n",
        "        nn.Linear(1000,512),\n",
        "        nn.Linear(512, num_classes),\n",
        "    )\n",
        "\n",
        "  def forward(self,x):\n",
        "    x = self.features(x)\n",
        "    x = x.reshape(x.shape[0], -1)\n",
        "    x = self.classifier(x)\n",
        "    return x\n",
        "\n",
        "  def create_conv_layers(self, archite):\n",
        "    layers = []\n",
        "    in_channels = self.in_channels\n",
        "    for x in archite:\n",
        "      if type(x) == int:\n",
        "        out_channels = x\n",
        "        layers += [nn.Conv2d(in_channels=in_channels, out_channels=out_channels, kernel_size=(CONV_KERNEL,CONV_KERNEL), stride=(CONV_STRIDE,CONV_STRIDE), padding=(CONV_PADDING,CONV_PADDING)),\n",
        "                  #  nn.BatchNorm2d(x),\n",
        "                   nn.ReLU()]\n",
        "        in_channels = x\n",
        "      elif x == \"M\":\n",
        "        layers += [nn.MaxPool2d(kernel_size=(MP_KERNEL,MP_KERNEL), stride=(MP_STRIDE,MP_STRIDE))]\n",
        "    return nn.Sequential(*layers)\n"
      ]
    },
    {
      "cell_type": "code",
      "execution_count": 16,
      "metadata": {
        "id": "oyBvdftXpoPD"
      },
      "outputs": [
        {
          "name": "stdout",
          "output_type": "stream",
          "text": [
            "My VGG16 - achritecture\n",
            "VGG(\n",
            "  (features): Sequential(\n",
            "    (0): Conv2d(3, 64, kernel_size=(3, 3), stride=(1, 1), padding=(1, 1))\n",
            "    (1): ReLU()\n",
            "    (2): Conv2d(64, 64, kernel_size=(3, 3), stride=(1, 1), padding=(1, 1))\n",
            "    (3): ReLU()\n",
            "    (4): MaxPool2d(kernel_size=(2, 2), stride=(2, 2), padding=0, dilation=1, ceil_mode=False)\n",
            "    (5): Conv2d(64, 128, kernel_size=(3, 3), stride=(1, 1), padding=(1, 1))\n",
            "    (6): ReLU()\n",
            "    (7): Conv2d(128, 128, kernel_size=(3, 3), stride=(1, 1), padding=(1, 1))\n",
            "    (8): ReLU()\n",
            "    (9): MaxPool2d(kernel_size=(2, 2), stride=(2, 2), padding=0, dilation=1, ceil_mode=False)\n",
            "    (10): Conv2d(128, 256, kernel_size=(3, 3), stride=(1, 1), padding=(1, 1))\n",
            "    (11): ReLU()\n",
            "    (12): Conv2d(256, 256, kernel_size=(3, 3), stride=(1, 1), padding=(1, 1))\n",
            "    (13): ReLU()\n",
            "    (14): Conv2d(256, 256, kernel_size=(3, 3), stride=(1, 1), padding=(1, 1))\n",
            "    (15): ReLU()\n",
            "    (16): MaxPool2d(kernel_size=(2, 2), stride=(2, 2), padding=0, dilation=1, ceil_mode=False)\n",
            "    (17): Conv2d(256, 512, kernel_size=(3, 3), stride=(1, 1), padding=(1, 1))\n",
            "    (18): ReLU()\n",
            "    (19): Conv2d(512, 512, kernel_size=(3, 3), stride=(1, 1), padding=(1, 1))\n",
            "    (20): ReLU()\n",
            "    (21): Conv2d(512, 512, kernel_size=(3, 3), stride=(1, 1), padding=(1, 1))\n",
            "    (22): ReLU()\n",
            "    (23): MaxPool2d(kernel_size=(2, 2), stride=(2, 2), padding=0, dilation=1, ceil_mode=False)\n",
            "    (24): Conv2d(512, 512, kernel_size=(3, 3), stride=(1, 1), padding=(1, 1))\n",
            "    (25): ReLU()\n",
            "    (26): Conv2d(512, 512, kernel_size=(3, 3), stride=(1, 1), padding=(1, 1))\n",
            "    (27): ReLU()\n",
            "    (28): Conv2d(512, 512, kernel_size=(3, 3), stride=(1, 1), padding=(1, 1))\n",
            "    (29): ReLU()\n",
            "    (30): MaxPool2d(kernel_size=(2, 2), stride=(2, 2), padding=0, dilation=1, ceil_mode=False)\n",
            "  )\n",
            "  (avgpool): AdaptiveAvgPool2d(output_size=(7, 7))\n",
            "  (classifier): Sequential(\n",
            "    (0): Linear(in_features=25088, out_features=4096, bias=True)\n",
            "    (1): ReLU()\n",
            "    (2): Dropout(p=0.5, inplace=False)\n",
            "    (3): Linear(in_features=4096, out_features=4096, bias=True)\n",
            "    (4): ReLU()\n",
            "    (5): Dropout(p=0.5, inplace=False)\n",
            "    (6): Linear(in_features=4096, out_features=1000, bias=True)\n",
            "    (7): Linear(in_features=1000, out_features=512, bias=True)\n",
            "    (8): Linear(in_features=512, out_features=3, bias=True)\n",
            "  )\n",
            ")\n"
          ]
        }
      ],
      "source": [
        "print(\"My VGG16 - achritecture\")\n",
        "model = VGG(in_channels=3, num_classes=NUM_CLASSES).to(device=device)\n",
        "state_dict = torch.load(r'PATH TO YOUR VGG16_PRETRAINED WEIGHT')\n",
        "model.load_state_dict(state_dict, strict= False)\n",
        "print(model)"
      ]
    },
    {
      "cell_type": "markdown",
      "metadata": {
        "id": "o5lfGZMnfHBY"
      },
      "source": [
        "**LOST - OPTIMIZER**"
      ]
    },
    {
      "cell_type": "code",
      "execution_count": 17,
      "metadata": {
        "id": "MwKUEpf-fGbM"
      },
      "outputs": [],
      "source": [
        "criterion = nn.CrossEntropyLoss()\n",
        "optimizer = optim.SGD(model.parameters(), lr=LEARNING_RATE)"
      ]
    },
    {
      "cell_type": "markdown",
      "metadata": {
        "id": "Ya9av6cEfp1Z"
      },
      "source": [
        "**Train/Test Phrase**"
      ]
    },
    {
      "cell_type": "code",
      "execution_count": 18,
      "metadata": {
        "id": "ArqA9pEUg_ua"
      },
      "outputs": [],
      "source": [
        "stored_dir = r'PATH TO YOUR FOLDER TO STORE THE TENSORBOARD LOG'\n",
        "check_point = r'YOUR PATH TO YOUR MODE_WEIGHT.pt'"
      ]
    },
    {
      "cell_type": "code",
      "execution_count": 20,
      "metadata": {
        "id": "_sC5WILKkR68"
      },
      "outputs": [],
      "source": [
        "def main():\n",
        "  train()"
      ]
    },
    {
      "cell_type": "code",
      "execution_count": 21,
      "metadata": {
        "id": "FOfq6_3dkVWg"
      },
      "outputs": [
        {
          "name": "stderr",
          "output_type": "stream",
          "text": [
            "Epoch 1/100. Loss 0.2001: 100%|\u001b[32m██████████\u001b[0m| 1423/1423 [03:48<00:00,  6.24it/s]\n",
            "100%|\u001b[34m██████████\u001b[0m| 315/315 [00:10<00:00, 29.19it/s]\n"
          ]
        },
        {
          "name": "stdout",
          "output_type": "stream",
          "text": [
            "Epoch 1/100. Loss 0.2638. Acc 0.8873\n"
          ]
        },
        {
          "name": "stderr",
          "output_type": "stream",
          "text": [
            "Epoch 2/100. Loss 0.0004: 100%|\u001b[32m██████████\u001b[0m| 1423/1423 [03:48<00:00,  6.22it/s]\n",
            "100%|\u001b[34m██████████\u001b[0m| 315/315 [00:10<00:00, 28.88it/s]\n"
          ]
        },
        {
          "name": "stdout",
          "output_type": "stream",
          "text": [
            "Epoch 2/100. Loss 0.1812. Acc 0.9286\n"
          ]
        },
        {
          "name": "stderr",
          "output_type": "stream",
          "text": [
            "Epoch 3/100. Loss 0.0001: 100%|\u001b[32m██████████\u001b[0m| 1423/1423 [03:48<00:00,  6.22it/s]\n",
            "100%|\u001b[34m██████████\u001b[0m| 315/315 [00:10<00:00, 29.00it/s]\n"
          ]
        },
        {
          "name": "stdout",
          "output_type": "stream",
          "text": [
            "Epoch 3/100. Loss 0.2092. Acc 0.9206\n"
          ]
        },
        {
          "name": "stderr",
          "output_type": "stream",
          "text": [
            "Epoch 4/100. Loss 0.0114: 100%|\u001b[32m██████████\u001b[0m| 1423/1423 [03:48<00:00,  6.24it/s]\n",
            "100%|\u001b[34m██████████\u001b[0m| 315/315 [00:10<00:00, 29.63it/s]\n"
          ]
        },
        {
          "name": "stdout",
          "output_type": "stream",
          "text": [
            "Epoch 4/100. Loss 0.1615. Acc 0.9492\n"
          ]
        },
        {
          "name": "stderr",
          "output_type": "stream",
          "text": [
            "Epoch 5/100. Loss 0.1230: 100%|\u001b[32m██████████\u001b[0m| 1423/1423 [03:48<00:00,  6.24it/s]\n",
            "100%|\u001b[34m██████████\u001b[0m| 315/315 [00:10<00:00, 29.74it/s]\n"
          ]
        },
        {
          "name": "stdout",
          "output_type": "stream",
          "text": [
            "Epoch 5/100. Loss 0.2694. Acc 0.9222\n"
          ]
        },
        {
          "name": "stderr",
          "output_type": "stream",
          "text": [
            "Epoch 6/100. Loss 0.0000: 100%|\u001b[32m██████████\u001b[0m| 1423/1423 [03:48<00:00,  6.24it/s]\n",
            "100%|\u001b[34m██████████\u001b[0m| 315/315 [00:10<00:00, 29.81it/s]\n"
          ]
        },
        {
          "name": "stdout",
          "output_type": "stream",
          "text": [
            "Epoch 6/100. Loss 0.2128. Acc 0.9333\n"
          ]
        },
        {
          "name": "stderr",
          "output_type": "stream",
          "text": [
            "Epoch 7/100. Loss 0.0000: 100%|\u001b[32m██████████\u001b[0m| 1423/1423 [03:48<00:00,  6.23it/s]\n",
            "100%|\u001b[34m██████████\u001b[0m| 315/315 [00:10<00:00, 29.56it/s]\n"
          ]
        },
        {
          "name": "stdout",
          "output_type": "stream",
          "text": [
            "Epoch 7/100. Loss 0.1035. Acc 0.9603\n"
          ]
        },
        {
          "name": "stderr",
          "output_type": "stream",
          "text": [
            "Epoch 8/100. Loss 0.0003: 100%|\u001b[32m██████████\u001b[0m| 1423/1423 [03:50<00:00,  6.18it/s]\n",
            "100%|\u001b[34m██████████\u001b[0m| 315/315 [00:10<00:00, 29.57it/s]\n"
          ]
        },
        {
          "name": "stdout",
          "output_type": "stream",
          "text": [
            "Epoch 8/100. Loss 0.1741. Acc 0.9429\n"
          ]
        },
        {
          "name": "stderr",
          "output_type": "stream",
          "text": [
            "Epoch 9/100. Loss 0.0000: 100%|\u001b[32m██████████\u001b[0m| 1423/1423 [03:48<00:00,  6.23it/s]\n",
            "100%|\u001b[34m██████████\u001b[0m| 315/315 [00:10<00:00, 29.50it/s]\n"
          ]
        },
        {
          "name": "stdout",
          "output_type": "stream",
          "text": [
            "Epoch 9/100. Loss 0.1817. Acc 0.9381\n"
          ]
        },
        {
          "name": "stderr",
          "output_type": "stream",
          "text": [
            "Epoch 10/100. Loss 0.0000: 100%|\u001b[32m██████████\u001b[0m| 1423/1423 [03:47<00:00,  6.24it/s]\n",
            "100%|\u001b[34m██████████\u001b[0m| 315/315 [00:10<00:00, 29.44it/s]\n"
          ]
        },
        {
          "name": "stdout",
          "output_type": "stream",
          "text": [
            "Epoch 10/100. Loss 0.2492. Acc 0.9349\n"
          ]
        },
        {
          "name": "stderr",
          "output_type": "stream",
          "text": [
            "Epoch 11/100. Loss 0.0002: 100%|\u001b[32m██████████\u001b[0m| 1423/1423 [03:49<00:00,  6.21it/s]\n",
            "100%|\u001b[34m██████████\u001b[0m| 315/315 [00:10<00:00, 28.90it/s]\n"
          ]
        },
        {
          "name": "stdout",
          "output_type": "stream",
          "text": [
            "Epoch 11/100. Loss 0.2009. Acc 0.9349\n"
          ]
        },
        {
          "name": "stderr",
          "output_type": "stream",
          "text": [
            "Epoch 12/100. Loss 0.0000: 100%|\u001b[32m██████████\u001b[0m| 1423/1423 [03:48<00:00,  6.24it/s]\n",
            "100%|\u001b[34m██████████\u001b[0m| 315/315 [00:10<00:00, 30.16it/s]\n"
          ]
        },
        {
          "name": "stdout",
          "output_type": "stream",
          "text": [
            "Epoch 12/100. Loss 0.1573. Acc 0.9524\n"
          ]
        },
        {
          "name": "stderr",
          "output_type": "stream",
          "text": [
            "Epoch 13/100. Loss 0.0000: 100%|\u001b[32m██████████\u001b[0m| 1423/1423 [03:47<00:00,  6.26it/s]\n",
            "100%|\u001b[34m██████████\u001b[0m| 315/315 [00:10<00:00, 29.12it/s]\n"
          ]
        },
        {
          "name": "stdout",
          "output_type": "stream",
          "text": [
            "Epoch 13/100. Loss 0.1983. Acc 0.9429\n"
          ]
        },
        {
          "name": "stderr",
          "output_type": "stream",
          "text": [
            "Epoch 14/100. Loss 0.0001: 100%|\u001b[32m██████████\u001b[0m| 1423/1423 [03:47<00:00,  6.25it/s]\n",
            "100%|\u001b[34m██████████\u001b[0m| 315/315 [00:10<00:00, 29.74it/s]\n"
          ]
        },
        {
          "name": "stdout",
          "output_type": "stream",
          "text": [
            "Epoch 14/100. Loss 0.2135. Acc 0.9413\n"
          ]
        },
        {
          "name": "stderr",
          "output_type": "stream",
          "text": [
            "Epoch 15/100. Loss 0.0000: 100%|\u001b[32m██████████\u001b[0m| 1423/1423 [03:48<00:00,  6.24it/s]\n",
            "100%|\u001b[34m██████████\u001b[0m| 315/315 [00:10<00:00, 30.35it/s]\n"
          ]
        },
        {
          "name": "stdout",
          "output_type": "stream",
          "text": [
            "Epoch 15/100. Loss 0.1735. Acc 0.9508\n"
          ]
        },
        {
          "name": "stderr",
          "output_type": "stream",
          "text": [
            "Epoch 16/100. Loss 0.0050: 100%|\u001b[32m██████████\u001b[0m| 1423/1423 [03:47<00:00,  6.26it/s]\n",
            "100%|\u001b[34m██████████\u001b[0m| 315/315 [00:10<00:00, 29.68it/s]\n"
          ]
        },
        {
          "name": "stdout",
          "output_type": "stream",
          "text": [
            "Epoch 16/100. Loss 0.1070. Acc 0.9635\n"
          ]
        },
        {
          "name": "stderr",
          "output_type": "stream",
          "text": [
            "Epoch 17/100. Loss 0.0000: 100%|\u001b[32m██████████\u001b[0m| 1423/1423 [03:49<00:00,  6.20it/s]\n",
            "100%|\u001b[34m██████████\u001b[0m| 315/315 [00:10<00:00, 29.82it/s]\n"
          ]
        },
        {
          "name": "stdout",
          "output_type": "stream",
          "text": [
            "Epoch 17/100. Loss 0.1304. Acc 0.9587\n"
          ]
        },
        {
          "name": "stderr",
          "output_type": "stream",
          "text": [
            "Epoch 18/100. Loss 0.0000: 100%|\u001b[32m██████████\u001b[0m| 1423/1423 [03:48<00:00,  6.24it/s]\n",
            "100%|\u001b[34m██████████\u001b[0m| 315/315 [00:10<00:00, 29.27it/s]\n"
          ]
        },
        {
          "name": "stdout",
          "output_type": "stream",
          "text": [
            "Epoch 18/100. Loss 0.1930. Acc 0.9460\n"
          ]
        },
        {
          "name": "stderr",
          "output_type": "stream",
          "text": [
            "Epoch 19/100. Loss 0.0000: 100%|\u001b[32m██████████\u001b[0m| 1423/1423 [03:49<00:00,  6.19it/s]\n",
            "100%|\u001b[34m██████████\u001b[0m| 315/315 [00:10<00:00, 29.55it/s]\n"
          ]
        },
        {
          "name": "stdout",
          "output_type": "stream",
          "text": [
            "Epoch 19/100. Loss 0.1348. Acc 0.9540\n"
          ]
        },
        {
          "name": "stderr",
          "output_type": "stream",
          "text": [
            "Epoch 20/100. Loss 0.0000: 100%|\u001b[32m██████████\u001b[0m| 1423/1423 [03:48<00:00,  6.22it/s]\n",
            "100%|\u001b[34m██████████\u001b[0m| 315/315 [00:10<00:00, 30.23it/s]\n"
          ]
        },
        {
          "name": "stdout",
          "output_type": "stream",
          "text": [
            "Epoch 20/100. Loss 0.1868. Acc 0.9397\n"
          ]
        },
        {
          "name": "stderr",
          "output_type": "stream",
          "text": [
            "Epoch 21/100. Loss 0.0000:  73%|\u001b[32m███████▎  \u001b[0m| 1043/1423 [02:46<01:00,  6.25it/s]\n"
          ]
        },
        {
          "ename": "KeyboardInterrupt",
          "evalue": "",
          "output_type": "error",
          "traceback": [
            "\u001b[0;31m---------------------------------------------------------------------------\u001b[0m",
            "\u001b[0;31mKeyboardInterrupt\u001b[0m                         Traceback (most recent call last)",
            "Cell \u001b[0;32mIn[21], line 1\u001b[0m\n\u001b[0;32m----> 1\u001b[0m \u001b[43mmain\u001b[49m\u001b[43m(\u001b[49m\u001b[43m)\u001b[49m\n",
            "Cell \u001b[0;32mIn[20], line 2\u001b[0m, in \u001b[0;36mmain\u001b[0;34m()\u001b[0m\n\u001b[1;32m      1\u001b[0m \u001b[38;5;28;01mdef\u001b[39;00m \u001b[38;5;21mmain\u001b[39m():\n\u001b[0;32m----> 2\u001b[0m   \u001b[43mtrain\u001b[49m\u001b[43m(\u001b[49m\u001b[43m)\u001b[49m\n",
            "Cell \u001b[0;32mIn[19], line 15\u001b[0m, in \u001b[0;36mtrain\u001b[0;34m()\u001b[0m\n\u001b[1;32m     13\u001b[0m progress_bar \u001b[38;5;241m=\u001b[39m tqdm(train_dataloader, colour\u001b[38;5;241m=\u001b[39m\u001b[38;5;124m\"\u001b[39m\u001b[38;5;124mgreen\u001b[39m\u001b[38;5;124m\"\u001b[39m)\n\u001b[1;32m     14\u001b[0m \u001b[38;5;28;01mfor\u001b[39;00m i, (images, labels) \u001b[38;5;129;01min\u001b[39;00m \u001b[38;5;28menumerate\u001b[39m(progress_bar):\n\u001b[0;32m---> 15\u001b[0m         images \u001b[38;5;241m=\u001b[39m \u001b[43mimages\u001b[49m\u001b[38;5;241;43m.\u001b[39;49m\u001b[43mto\u001b[49m\u001b[43m(\u001b[49m\u001b[43mdevice\u001b[49m\u001b[43m)\u001b[49m\n\u001b[1;32m     16\u001b[0m         labels \u001b[38;5;241m=\u001b[39m labels\u001b[38;5;241m.\u001b[39mto(device)\n\u001b[1;32m     17\u001b[0m         output \u001b[38;5;241m=\u001b[39m model(images)\n",
            "\u001b[0;31mKeyboardInterrupt\u001b[0m: "
          ]
        }
      ],
      "source": [
        "main()"
      ]
    }
  ],
  "metadata": {
    "accelerator": "GPU",
    "colab": {
      "gpuType": "T4",
      "provenance": []
    },
    "kernelspec": {
      "display_name": "Python 3",
      "name": "python3"
    },
    "language_info": {
      "codemirror_mode": {
        "name": "ipython",
        "version": 3
      },
      "file_extension": ".py",
      "mimetype": "text/x-python",
      "name": "python",
      "nbconvert_exporter": "python",
      "pygments_lexer": "ipython3",
      "version": "3.9.19"
    }
  },
  "nbformat": 4,
  "nbformat_minor": 0
}
