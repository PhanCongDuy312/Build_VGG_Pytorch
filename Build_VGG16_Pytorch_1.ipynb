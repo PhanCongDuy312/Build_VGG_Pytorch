{
  "nbformat": 4,
  "nbformat_minor": 0,
  "metadata": {
    "colab": {
      "provenance": [],
      "gpuType": "T4"
    },
    "kernelspec": {
      "name": "python3",
      "display_name": "Python 3"
    },
    "language_info": {
      "name": "python"
    },
    "accelerator": "GPU"
  },
  "cells": [
    {
      "cell_type": "markdown",
      "source": [
        "**Check for cuda**"
      ],
      "metadata": {
        "id": "DIMUeD7AQTCr"
      }
    },
    {
      "cell_type": "code",
      "source": [
        "import warnings\n",
        "\n",
        "warnings.filterwarnings(\"ignore\")"
      ],
      "metadata": {
        "id": "5_tTBUjGbdBT"
      },
      "execution_count": 1,
      "outputs": []
    },
    {
      "cell_type": "code",
      "execution_count": 2,
      "metadata": {
        "colab": {
          "base_uri": "https://localhost:8080/",
          "height": 35
        },
        "id": "n-lScr8ZPLzB",
        "outputId": "fbe1f7e7-f750-4434-f002-2e94da6cc415"
      },
      "outputs": [
        {
          "output_type": "execute_result",
          "data": {
            "text/plain": [
              "'cpu'"
            ],
            "application/vnd.google.colaboratory.intrinsic+json": {
              "type": "string"
            }
          },
          "metadata": {},
          "execution_count": 2
        }
      ],
      "source": [
        "import torch\n",
        "from torch import nn\n",
        "\n",
        "device = \"cuda\" if torch.cuda.is_available() else \"cpu\"\n",
        "device"
      ]
    },
    {
      "cell_type": "markdown",
      "source": [
        "**Down Data**"
      ],
      "metadata": {
        "id": "nmO-rhieQPMF"
      }
    },
    {
      "cell_type": "code",
      "source": [
        "# import requests\n",
        "# import zipfile\n",
        "# from pathlib import Path\n",
        "\n",
        "# data_path = Path(\"data/\")\n",
        "# image_path = data_path / \"pizza_steak_sushi\"\n",
        "\n",
        "# if image_path.is_dir():\n",
        "#     print(f\"{image_path} directory exists.\")\n",
        "# else:\n",
        "#     print(f\"Did not find {image_path} directory, creating one...\")\n",
        "#     image_path.mkdir(parents=True, exist_ok=True)\n",
        "\n",
        "#     with open(data_path / \"pizza_steak_sushi.zip\", \"wb\") as f:\n",
        "#         request = requests.get(\"https://github.com/mrdbourke/pytorch-deep-learning/raw/main/data/pizza_steak_sushi.zip\")\n",
        "#         print(\"Downloading pizza, steak, sushi data...\")\n",
        "#         f.write(request.content)\n",
        "\n",
        "#     with zipfile.ZipFile(data_path / \"pizza_steak_sushi.zip\", \"r\") as zip_ref:\n",
        "#         print(\"Unzipping pizza, steak, sushi data...\")\n",
        "#         zip_ref.extractall(image_path)"
      ],
      "metadata": {
        "id": "3IgByq9TQNZM"
      },
      "execution_count": 3,
      "outputs": []
    },
    {
      "cell_type": "code",
      "source": [
        "from google.colab import drive\n",
        "drive.mount('/content/drive')"
      ],
      "metadata": {
        "colab": {
          "base_uri": "https://localhost:8080/",
          "height": 304
        },
        "id": "X0MTTveAxQbU",
        "outputId": "6a8fadad-0e70-4faf-8b86-0c2d78deb10a"
      },
      "execution_count": 4,
      "outputs": [
        {
          "output_type": "error",
          "ename": "MessageError",
          "evalue": "Error: credential propagation was unsuccessful",
          "traceback": [
            "\u001b[0;31m---------------------------------------------------------------------------\u001b[0m",
            "\u001b[0;31mMessageError\u001b[0m                              Traceback (most recent call last)",
            "\u001b[0;32m<ipython-input-4-d5df0069828e>\u001b[0m in \u001b[0;36m<cell line: 2>\u001b[0;34m()\u001b[0m\n\u001b[1;32m      1\u001b[0m \u001b[0;32mfrom\u001b[0m \u001b[0mgoogle\u001b[0m\u001b[0;34m.\u001b[0m\u001b[0mcolab\u001b[0m \u001b[0;32mimport\u001b[0m \u001b[0mdrive\u001b[0m\u001b[0;34m\u001b[0m\u001b[0;34m\u001b[0m\u001b[0m\n\u001b[0;32m----> 2\u001b[0;31m \u001b[0mdrive\u001b[0m\u001b[0;34m.\u001b[0m\u001b[0mmount\u001b[0m\u001b[0;34m(\u001b[0m\u001b[0;34m'/content/drive'\u001b[0m\u001b[0;34m)\u001b[0m\u001b[0;34m\u001b[0m\u001b[0;34m\u001b[0m\u001b[0m\n\u001b[0m",
            "\u001b[0;32m/usr/local/lib/python3.10/dist-packages/google/colab/drive.py\u001b[0m in \u001b[0;36mmount\u001b[0;34m(mountpoint, force_remount, timeout_ms, readonly)\u001b[0m\n\u001b[1;32m     98\u001b[0m \u001b[0;32mdef\u001b[0m \u001b[0mmount\u001b[0m\u001b[0;34m(\u001b[0m\u001b[0mmountpoint\u001b[0m\u001b[0;34m,\u001b[0m \u001b[0mforce_remount\u001b[0m\u001b[0;34m=\u001b[0m\u001b[0;32mFalse\u001b[0m\u001b[0;34m,\u001b[0m \u001b[0mtimeout_ms\u001b[0m\u001b[0;34m=\u001b[0m\u001b[0;36m120000\u001b[0m\u001b[0;34m,\u001b[0m \u001b[0mreadonly\u001b[0m\u001b[0;34m=\u001b[0m\u001b[0;32mFalse\u001b[0m\u001b[0;34m)\u001b[0m\u001b[0;34m:\u001b[0m\u001b[0;34m\u001b[0m\u001b[0;34m\u001b[0m\u001b[0m\n\u001b[1;32m     99\u001b[0m   \u001b[0;34m\"\"\"Mount your Google Drive at the specified mountpoint path.\"\"\"\u001b[0m\u001b[0;34m\u001b[0m\u001b[0;34m\u001b[0m\u001b[0m\n\u001b[0;32m--> 100\u001b[0;31m   return _mount(\n\u001b[0m\u001b[1;32m    101\u001b[0m       \u001b[0mmountpoint\u001b[0m\u001b[0;34m,\u001b[0m\u001b[0;34m\u001b[0m\u001b[0;34m\u001b[0m\u001b[0m\n\u001b[1;32m    102\u001b[0m       \u001b[0mforce_remount\u001b[0m\u001b[0;34m=\u001b[0m\u001b[0mforce_remount\u001b[0m\u001b[0;34m,\u001b[0m\u001b[0;34m\u001b[0m\u001b[0;34m\u001b[0m\u001b[0m\n",
            "\u001b[0;32m/usr/local/lib/python3.10/dist-packages/google/colab/drive.py\u001b[0m in \u001b[0;36m_mount\u001b[0;34m(mountpoint, force_remount, timeout_ms, ephemeral, readonly)\u001b[0m\n\u001b[1;32m    131\u001b[0m   )\n\u001b[1;32m    132\u001b[0m   \u001b[0;32mif\u001b[0m \u001b[0mephemeral\u001b[0m\u001b[0;34m:\u001b[0m\u001b[0;34m\u001b[0m\u001b[0;34m\u001b[0m\u001b[0m\n\u001b[0;32m--> 133\u001b[0;31m     _message.blocking_request(\n\u001b[0m\u001b[1;32m    134\u001b[0m         \u001b[0;34m'request_auth'\u001b[0m\u001b[0;34m,\u001b[0m\u001b[0;34m\u001b[0m\u001b[0;34m\u001b[0m\u001b[0m\n\u001b[1;32m    135\u001b[0m         \u001b[0mrequest\u001b[0m\u001b[0;34m=\u001b[0m\u001b[0;34m{\u001b[0m\u001b[0;34m'authType'\u001b[0m\u001b[0;34m:\u001b[0m \u001b[0;34m'dfs_ephemeral'\u001b[0m\u001b[0;34m}\u001b[0m\u001b[0;34m,\u001b[0m\u001b[0;34m\u001b[0m\u001b[0;34m\u001b[0m\u001b[0m\n",
            "\u001b[0;32m/usr/local/lib/python3.10/dist-packages/google/colab/_message.py\u001b[0m in \u001b[0;36mblocking_request\u001b[0;34m(request_type, request, timeout_sec, parent)\u001b[0m\n\u001b[1;32m    174\u001b[0m       \u001b[0mrequest_type\u001b[0m\u001b[0;34m,\u001b[0m \u001b[0mrequest\u001b[0m\u001b[0;34m,\u001b[0m \u001b[0mparent\u001b[0m\u001b[0;34m=\u001b[0m\u001b[0mparent\u001b[0m\u001b[0;34m,\u001b[0m \u001b[0mexpect_reply\u001b[0m\u001b[0;34m=\u001b[0m\u001b[0;32mTrue\u001b[0m\u001b[0;34m\u001b[0m\u001b[0;34m\u001b[0m\u001b[0m\n\u001b[1;32m    175\u001b[0m   )\n\u001b[0;32m--> 176\u001b[0;31m   \u001b[0;32mreturn\u001b[0m \u001b[0mread_reply_from_input\u001b[0m\u001b[0;34m(\u001b[0m\u001b[0mrequest_id\u001b[0m\u001b[0;34m,\u001b[0m \u001b[0mtimeout_sec\u001b[0m\u001b[0;34m)\u001b[0m\u001b[0;34m\u001b[0m\u001b[0;34m\u001b[0m\u001b[0m\n\u001b[0m",
            "\u001b[0;32m/usr/local/lib/python3.10/dist-packages/google/colab/_message.py\u001b[0m in \u001b[0;36mread_reply_from_input\u001b[0;34m(message_id, timeout_sec)\u001b[0m\n\u001b[1;32m    101\u001b[0m     ):\n\u001b[1;32m    102\u001b[0m       \u001b[0;32mif\u001b[0m \u001b[0;34m'error'\u001b[0m \u001b[0;32min\u001b[0m \u001b[0mreply\u001b[0m\u001b[0;34m:\u001b[0m\u001b[0;34m\u001b[0m\u001b[0;34m\u001b[0m\u001b[0m\n\u001b[0;32m--> 103\u001b[0;31m         \u001b[0;32mraise\u001b[0m \u001b[0mMessageError\u001b[0m\u001b[0;34m(\u001b[0m\u001b[0mreply\u001b[0m\u001b[0;34m[\u001b[0m\u001b[0;34m'error'\u001b[0m\u001b[0;34m]\u001b[0m\u001b[0;34m)\u001b[0m\u001b[0;34m\u001b[0m\u001b[0;34m\u001b[0m\u001b[0m\n\u001b[0m\u001b[1;32m    104\u001b[0m       \u001b[0;32mreturn\u001b[0m \u001b[0mreply\u001b[0m\u001b[0;34m.\u001b[0m\u001b[0mget\u001b[0m\u001b[0;34m(\u001b[0m\u001b[0;34m'data'\u001b[0m\u001b[0;34m,\u001b[0m \u001b[0;32mNone\u001b[0m\u001b[0;34m)\u001b[0m\u001b[0;34m\u001b[0m\u001b[0;34m\u001b[0m\u001b[0m\n\u001b[1;32m    105\u001b[0m \u001b[0;34m\u001b[0m\u001b[0m\n",
            "\u001b[0;31mMessageError\u001b[0m: Error: credential propagation was unsuccessful"
          ]
        }
      ]
    },
    {
      "cell_type": "code",
      "source": [
        "unzip = 0\n",
        "if unzip == 0:\n",
        "  !unzip /content/drive/MyDrive/Animal_dataset/VGG_16.zip -d /content/animal_dataset\n",
        "  unzip += 1\n",
        "else:\n",
        "  print(\"already zip\")"
      ],
      "metadata": {
        "id": "JLvqFbfWxgQB"
      },
      "execution_count": null,
      "outputs": []
    },
    {
      "cell_type": "markdown",
      "source": [
        "**Build Custome Dataset**"
      ],
      "metadata": {
        "id": "s5CRl8AhQYA-"
      }
    },
    {
      "cell_type": "code",
      "source": [
        "# train_dir = image_path / \"train\"\n",
        "# test_dir = image_path / \"test\"\n",
        "\n",
        "# train_dir, test_dir"
      ],
      "metadata": {
        "id": "iidXfzQVQYXY"
      },
      "execution_count": null,
      "outputs": []
    },
    {
      "cell_type": "code",
      "source": [
        "train_dir = '/content/animal_dataset/VGG_16/train'\n",
        "test_dir = '/content/animal_dataset/VGG_16/test'\n",
        "\n",
        "train_dir, test_dir"
      ],
      "metadata": {
        "id": "kAK1D6w6y2FK"
      },
      "execution_count": null,
      "outputs": []
    },
    {
      "cell_type": "code",
      "source": [
        "import os\n",
        "import pathlib\n",
        "import torch\n",
        "import torch.optim as optim\n",
        "from torch.utils.data import Dataset, DataLoader, random_split, SubsetRandomSampler\n",
        "from torch.utils.tensorboard import SummaryWriter\n",
        "from torchvision import transforms, datasets\n",
        "from torchvision.transforms import Resize, ToTensor, Compose, Normalize, RandomHorizontalFlip\n",
        "from torchvision.models import resnet34, ResNet34_Weights\n",
        "from PIL import Image\n",
        "from typing import Tuple, Dict, List\n",
        "import numpy as np\n",
        "from sklearn.metrics import accuracy_score, confusion_matrix\n",
        "import matplotlib.pyplot as plt\n",
        "from tqdm.autonotebook import tqdm\n",
        "import argparse\n",
        "import cv2\n",
        "import shutil\n",
        "\n"
      ],
      "metadata": {
        "id": "h6LvJsgcRElC"
      },
      "execution_count": null,
      "outputs": []
    },
    {
      "cell_type": "code",
      "source": [
        "# Make function to find classes in target directory\n",
        "def find_classes(directory: str) -> Tuple[List[str], Dict[str, int]]:\n",
        "    \"\"\"Finds the class folder names in a target directory.\n",
        "\n",
        "    Assumes target directory is in standard image classification format.\n",
        "\n",
        "    Args:\n",
        "        directory (str): target directory to load classnames from.\n",
        "\n",
        "    Returns:\n",
        "        Tuple[List[str], Dict[str, int]]: (list_of_class_names, dict(class_name: idx...))\n",
        "\n",
        "    Example:\n",
        "        find_classes(\"food_images/train\")\n",
        "        >>> ([\"class_1\", \"class_2\"], {\"class_1\": 0, ...})\n",
        "    \"\"\"\n",
        "    classes = sorted(entry.name for entry in os.scandir(directory) if entry.is_dir())\n",
        "\n",
        "    if not classes:\n",
        "        raise FileNotFoundError(f\"Couldn't find any classes in {directory}.\")\n",
        "\n",
        "    class_to_idx = {cls_name: i for i, cls_name in enumerate(classes)}\n",
        "    return classes, class_to_idx"
      ],
      "metadata": {
        "id": "d2zCnDbORILq"
      },
      "execution_count": null,
      "outputs": []
    },
    {
      "cell_type": "code",
      "source": [
        "from torch.utils.data import Dataset\n",
        "\n",
        "class ImageFolderCustom(Dataset):\n",
        "  def __init__(self, root_dir, is_train, transform):\n",
        "    if is_train:\n",
        "      data_path = os.path.join(root_dir, \"train\")\n",
        "    else:\n",
        "      data_path = os.path.join(root_dir, \"test\")\n",
        "    self.root_dir = root_dir\n",
        "    self.categories = ['cow', 'horse', 'sheep']\n",
        "    self.image_paths = []\n",
        "    self.labels = []\n",
        "    self.transform = transform\n",
        "    for index, category in enumerate(self.categories):\n",
        "      subdir_path = os.path.join(data_path, category)\n",
        "      for file_name in os.listdir(subdir_path):\n",
        "          self.image_paths.append(os.path.join(subdir_path,subdir_path, file_name))\n",
        "          self.labels.append(index)\n",
        "\n",
        "  def __len__(self) -> int:\n",
        "      \"Returns the total number of samples.\"\n",
        "      return len(self.image_paths)\n",
        "\n",
        "  def __getitem__(self, index: int) -> Tuple[torch.Tensor, int]:\n",
        "      \"Returns one sample of data, data and label (X, y).\"\n",
        "      image = Image.open(self.image_paths[index]).convert(\"RGB\")\n",
        "      class_idx = self.labels[index]\n",
        "      if self.transform:\n",
        "          image = self.transform(image)\n",
        "      return image, class_idx"
      ],
      "metadata": {
        "id": "AWZ3Z25kRAf1"
      },
      "execution_count": null,
      "outputs": []
    },
    {
      "cell_type": "code",
      "source": [
        "root_dir = r'/content/animal_dataset/VGG_16'"
      ],
      "metadata": {
        "id": "4WKEztRcZDrX"
      },
      "execution_count": null,
      "outputs": []
    },
    {
      "cell_type": "code",
      "source": [
        "def data_loader():\n",
        "  train_transform = Compose([\n",
        "    Resize((224, 224)),\n",
        "    ToTensor(),\n",
        "    RandomHorizontalFlip(p=0.5),\n",
        "    Normalize(\n",
        "        mean=[0.4914, 0.4822, 0.4465],\n",
        "        std=[0.2023, 0.1994, 0.2010])\n",
        "    ])\n",
        "  test_transform = Compose([\n",
        "    Resize((224, 224)),\n",
        "    ToTensor()\n",
        "    ])\n",
        "\n",
        "  train_dataset = ImageFolderCustom(root_dir=root_dir, is_train=True, transform=train_transform)\n",
        "  train_dataloader = DataLoader(\n",
        "      dataset = train_dataset,\n",
        "      batch_size = 32,\n",
        "      num_workers = 4,\n",
        "      shuffle = True,\n",
        "      drop_last = False\n",
        "  )\n",
        "  test_dataset = ImageFolderCustom(root_dir=root_dir, is_train=False, transform=test_transform)\n",
        "  test_dataloader = DataLoader(\n",
        "        dataset = test_dataset,\n",
        "        batch_size = 32,\n",
        "        num_workers = 2,\n",
        "        shuffle = False,\n",
        "        drop_last = False\n",
        "  )\n",
        "  return train_dataloader, test_dataloader\n",
        "\n",
        "train_dataloader, test_dataloader = data_loader()"
      ],
      "metadata": {
        "id": "O-6KpTDiVB03"
      },
      "execution_count": null,
      "outputs": []
    },
    {
      "cell_type": "code",
      "source": [
        "# train_transform = Compose([\n",
        "#     Resize((224, 224)),\n",
        "#     ToTensor(),\n",
        "#     RandomHorizontalFlip(p=0.5),\n",
        "#     Normalize(\n",
        "#         mean=[0.4914, 0.4822, 0.4465],\n",
        "#         std=[0.2023, 0.1994, 0.2010])\n",
        "#     ])\n",
        "# train_dataset = ImageFolderCustom(root_dir=root_dir, is_train=True, transform=train_transform)\n",
        "# images_neduma,labels_neduma = train_dataset.__getitem__(200)\n",
        "# print(images_neduma.shape)\n",
        "# print(labels_neduma)"
      ],
      "metadata": {
        "id": "gy2QF0-JlGWl"
      },
      "execution_count": null,
      "outputs": []
    },
    {
      "cell_type": "code",
      "source": [
        "# from PIL import Image\n",
        "# import matplotlib.pyplot as plt\n",
        "# categories = ['pizza', 'steak', 'sushi']\n",
        "# data = ImageFolderCustom(root_dir=root_dir,  is_train=True)\n",
        "\n",
        "# image,label = data.__getitem__(200)\n",
        "\n",
        "# img = cv2.cvtColor(image, cv2.COLOR_BGR2RGB)\n",
        "# im_pil = Image.fromarray(img)\n",
        "\n",
        "# im_np = np.asarray(im_pil)\n",
        "\n",
        "# plt.imshow(im_np)\n",
        "# plt.title(categories[label])\n",
        "# plt.axis('off')\n",
        "# plt.show()\n"
      ],
      "metadata": {
        "id": "mND6usFedike"
      },
      "execution_count": null,
      "outputs": []
    },
    {
      "cell_type": "markdown",
      "source": [
        "**MODEL**"
      ],
      "metadata": {
        "id": "sW3sTDEweoPa"
      }
    },
    {
      "cell_type": "code",
      "source": [
        "IMAGE_SIZE = 224\n",
        "NUM_CLASSES = 2\n",
        "\n",
        "NUM_EPOCHS = 100\n",
        "NUM_WORKERS = 4\n",
        "BATCH_SIZE = 32\n",
        "LEARNING_RATE = 0.001\n",
        "\n",
        "CONV_KERNEL = 3\n",
        "CONV_STRIDE = 1\n",
        "CONV_PADDING = 1\n",
        "MP_KERNEL = 2\n",
        "MP_STRIDE = 2\n",
        "MP_PADDING = 0\n",
        "VGG16_archite = [64, 64, \"M\", 128, 128, \"M\", 256, 256, 256, \"M\", 512, 512, 512, \"M\", 512, 512, 512, \"M\"]"
      ],
      "metadata": {
        "id": "fo46bp_3esY1"
      },
      "execution_count": null,
      "outputs": []
    },
    {
      "cell_type": "code",
      "source": [
        "class VGG(nn.Module):\n",
        "  def __init__(self, in_channels=3, num_classes=None):\n",
        "    super(VGG, self).__init__()\n",
        "    self.in_channels = in_channels\n",
        "    self.features = self.create_conv_layers(VGG16_archite)\n",
        "    # self.image_size = max_pooling_output_size_for_fc(H=IMAGE_SIZE, n=len())\n",
        "    self.avgpool = nn.AdaptiveAvgPool2d((7,7))\n",
        "    self.classifier = nn.Sequential(\n",
        "        nn.Linear(512*7*7, 4096),\n",
        "        nn.ReLU(),\n",
        "        nn.Dropout(p=0.5),\n",
        "        nn.Linear(4096, 4096),\n",
        "        nn.ReLU(),\n",
        "        nn.Dropout(p=0.5),\n",
        "        nn.Linear(4096, 1000),\n",
        "        nn.ReLU(),\n",
        "        nn.Linear(1000,512),\n",
        "        nn.ReLU(),\n",
        "        nn.Linear(512, num_classes),\n",
        "    )\n",
        "\n",
        "  def forward(self,x):\n",
        "    x = self.features(x)\n",
        "    x = x.reshape(x.shape[0], -1)\n",
        "    x = self.classifier(x)\n",
        "    return x\n",
        "\n",
        "  def create_conv_layers(self, archite):\n",
        "    layers = []\n",
        "    in_channels = self.in_channels\n",
        "    for x in archite:\n",
        "      if type(x) == int:\n",
        "        out_channels = x\n",
        "        layers += [nn.Conv2d(in_channels=in_channels, out_channels=out_channels, kernel_size=(CONV_KERNEL,CONV_KERNEL), stride=(CONV_STRIDE,CONV_STRIDE), padding=(CONV_PADDING,CONV_PADDING)),\n",
        "                  #  nn.BatchNorm2d(x),\n",
        "                   nn.ReLU()]\n",
        "        in_channels = x\n",
        "      elif x == \"M\":\n",
        "        layers += [nn.MaxPool2d(kernel_size=(MP_KERNEL,MP_KERNEL), stride=(MP_STRIDE,MP_STRIDE))]\n",
        "    return nn.Sequential(*layers)\n"
      ],
      "metadata": {
        "id": "DJ2OMIgDekoz"
      },
      "execution_count": null,
      "outputs": []
    },
    {
      "cell_type": "code",
      "source": [
        "import torch\n",
        "from torchvision.models import vgg16, VGG16_Weights\n",
        "\n",
        "# Ensure that device is defined (e.g., 'cpu' or 'cuda')\n",
        "device = torch.device('cuda' if torch.cuda.is_available() else 'cpu')\n",
        "\n",
        "# Load the VGG16 model with pretrained weights\n",
        "model = vgg16(weights=VGG16_Weights.IMAGENET1K_V1).to(device)\n",
        "print(\"Pytorch VGG16 - achritecture\")\n",
        "print(model)\n",
        "print('----------------------------------')\n",
        "\n",
        "print(\"My VGG16 - achritecture\")\n",
        "model = VGG(in_channels=3, num_classes=100).to(device=device)\n",
        "state_dict = torch.load(r'/root/.cache/torch/hub/checkpoints/vgg16-397923af.pth')\n",
        "model.load_state_dict(state_dict, strict= False)\n",
        "print(model)"
      ],
      "metadata": {
        "id": "oyBvdftXpoPD"
      },
      "execution_count": null,
      "outputs": []
    },
    {
      "cell_type": "markdown",
      "source": [
        "**LOST - OPTIMIZER**"
      ],
      "metadata": {
        "id": "o5lfGZMnfHBY"
      }
    },
    {
      "cell_type": "code",
      "source": [
        "criterion = nn.CrossEntropyLoss()\n",
        "optimizer = optim.Adam(model.parameters(), lr=LEARNING_RATE)"
      ],
      "metadata": {
        "id": "MwKUEpf-fGbM"
      },
      "execution_count": null,
      "outputs": []
    },
    {
      "cell_type": "markdown",
      "source": [
        "**Train/Test Phrase**"
      ],
      "metadata": {
        "id": "Ya9av6cEfp1Z"
      }
    },
    {
      "cell_type": "code",
      "source": [
        "stored_dir = r'/content/trainningPhrase/'\n",
        "check_point = r'/content/check_point'"
      ],
      "metadata": {
        "id": "ArqA9pEUg_ua"
      },
      "execution_count": null,
      "outputs": []
    },
    {
      "cell_type": "code",
      "source": [
        "def trainning(stored_dir,check_point):\n",
        "\n",
        "  writer = SummaryWriter('content/runs')\n",
        "  best_acc = 0\n",
        "  model.to(device)\n",
        "  if os.path.isdir(stored_dir):\n",
        "        shutil.rmtree(stored_dir)\n",
        "  os.makedirs(stored_dir)\n",
        "  if not os.path.isdir(check_point):\n",
        "        os.makedirs(check_point)\n",
        "  for epoch in range(NUM_EPOCHS):\n",
        "    model.train()\n",
        "    progress_bar = tqdm(train_dataloader, colour=\"yellow\")\n",
        "    for i, (images, labels) in enumerate(progress_bar):\n",
        "            images = images.to(device)\n",
        "            labels = labels.to(device)\n",
        "            output = model(images)\n",
        "            loss = criterion(output, labels)\n",
        "            progress_bar.set_description(\"Epoch {}/{}. Loss {:0.4f}\".format(epoch + 1, NUM_EPOCHS, loss))\n",
        "            writer.add_scalar(\"Train/loss\", loss, epoch * len(train_dataloader) + i)\n",
        "            optimizer.zero_grad()\n",
        "            loss.backward()\n",
        "            optimizer.step()\n",
        "    model.eval()\n",
        "    all_losses = []\n",
        "    all_labels = []\n",
        "    all_predictions = []\n",
        "    with torch.no_grad():\n",
        "        for i, (images, labels) in enumerate(test_dataloader):\n",
        "            images = images.to(device)\n",
        "            labels = labels.to(device)\n",
        "            output = model(images)\n",
        "            predictions = torch.argmax(output, dim=1)\n",
        "            loss = criterion(output, labels)\n",
        "            all_losses.append(loss.item())\n",
        "            all_labels.extend(labels.tolist())\n",
        "            all_predictions.extend(predictions.tolist())\n",
        "        loss = np.mean(all_losses)\n",
        "        accuracy = accuracy_score(all_labels, all_predictions)\n",
        "        conf_matrix = confusion_matrix(all_labels, all_predictions)\n",
        "        print(\"Epoch {}/{}. Loss {:0.4f}. Acc {:0.4f}\".format(epoch + 1, NUM_EPOCHS, loss, accuracy))\n",
        "        writer.add_scalar(\"Test/loss\", loss, epoch)\n",
        "        writer.add_scalar(\"Test/Accuracy\", accuracy, epoch)\n",
        "        checkpoint = {\n",
        "            \"model_state_dict\": model.state_dict(),\n",
        "            \"epoch\": epoch,\n",
        "            \"optimizer_state_dict\": optimizer.state_dict()\n",
        "        }\n",
        "        torch.save(checkpoint, os.path.join(check_point, \"last.pt\"))\n",
        "        if accuracy > best_acc:\n",
        "            torch.save(checkpoint, os.path.join(check_point, \"best.pt\"))\n",
        "            best_acc = accuracy"
      ],
      "metadata": {
        "id": "19UkUsXqfuSZ"
      },
      "execution_count": null,
      "outputs": []
    },
    {
      "cell_type": "code",
      "source": [
        "def main():\n",
        "  trainning(stored_dir,check_point)"
      ],
      "metadata": {
        "id": "_sC5WILKkR68"
      },
      "execution_count": null,
      "outputs": []
    },
    {
      "cell_type": "code",
      "source": [
        "main()"
      ],
      "metadata": {
        "id": "FOfq6_3dkVWg"
      },
      "execution_count": null,
      "outputs": []
    }
  ]
}